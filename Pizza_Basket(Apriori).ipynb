{
 "cells": [
  {
   "cell_type": "code",
   "execution_count": 24,
   "id": "179ca403",
   "metadata": {},
   "outputs": [],
   "source": [
    "import pandas as pd\n",
    "from mlxtend.frequent_patterns import apriori, association_rules\n",
    "from mlxtend.preprocessing import TransactionEncoder"
   ]
  },
  {
   "cell_type": "code",
   "execution_count": 32,
   "id": "5b595587",
   "metadata": {},
   "outputs": [],
   "source": [
    "# Load the data\n",
    "data = pd.read_csv('Updated_Pizza_Sales.csv')"
   ]
  },
  {
   "cell_type": "code",
   "execution_count": 34,
   "id": "0f80491f",
   "metadata": {},
   "outputs": [
    {
     "name": "stdout",
     "output_type": "stream",
     "text": [
      "[['The Hawaiian Pizza'], ['The Classic Deluxe Pizza', 'The Five Cheese Pizza', 'The Italian Supreme Pizza', 'The Mexicana Pizza', 'The Thai Chicken Pizza'], ['The Italian Supreme Pizza', 'The Prosciutto and Arugula Pizza'], ['The Italian Supreme Pizza'], ['The Italian Supreme Pizza']]\n"
     ]
    }
   ],
   "source": [
    "# Ensure order_date is in datetime format\n",
    "data['order_date'] = pd.to_datetime(data['order_date'])\n",
    "\n",
    "# Group by order_id to form transactions\n",
    "transactions = data.groupby('order_id')['pizza_name'].apply(list).reset_index()\n",
    "\n",
    "# Use the transactions to create a list of lists for the apriori algorithm\n",
    "transaction_list = transactions['pizza_name'].tolist()\n",
    "\n",
    "# Print a few transactions for verification\n",
    "print(transaction_list[:5])\n"
   ]
  },
  {
   "cell_type": "code",
   "execution_count": 35,
   "id": "46bf162b",
   "metadata": {},
   "outputs": [
    {
     "name": "stdout",
     "output_type": "stream",
     "text": [
      "   The Barbecue Chicken Pizza  The Big Meat Pizza  The Brie Carre Pizza  \\\n",
      "0                       False               False                 False   \n",
      "1                       False               False                 False   \n",
      "2                       False               False                 False   \n",
      "3                       False               False                 False   \n",
      "4                       False               False                 False   \n",
      "\n",
      "   The Calabrese Pizza  The California Chicken Pizza  \\\n",
      "0                False                         False   \n",
      "1                False                         False   \n",
      "2                False                         False   \n",
      "3                False                         False   \n",
      "4                False                         False   \n",
      "\n",
      "   The Chicken Alfredo Pizza  The Chicken Pesto Pizza  \\\n",
      "0                      False                    False   \n",
      "1                      False                    False   \n",
      "2                      False                    False   \n",
      "3                      False                    False   \n",
      "4                      False                    False   \n",
      "\n",
      "   The Classic Deluxe Pizza  The Five Cheese Pizza  The Four Cheese Pizza  \\\n",
      "0                     False                  False                  False   \n",
      "1                      True                   True                  False   \n",
      "2                     False                  False                  False   \n",
      "3                     False                  False                  False   \n",
      "4                     False                  False                  False   \n",
      "\n",
      "   ...  The Prosciutto and Arugula Pizza  The Sicilian Pizza  \\\n",
      "0  ...                             False               False   \n",
      "1  ...                             False               False   \n",
      "2  ...                              True               False   \n",
      "3  ...                             False               False   \n",
      "4  ...                             False               False   \n",
      "\n",
      "   The Soppressata Pizza  The Southwest Chicken Pizza  \\\n",
      "0                  False                        False   \n",
      "1                  False                        False   \n",
      "2                  False                        False   \n",
      "3                  False                        False   \n",
      "4                  False                        False   \n",
      "\n",
      "   The Spicy Italian Pizza  The Spinach Pesto Pizza  \\\n",
      "0                    False                    False   \n",
      "1                    False                    False   \n",
      "2                    False                    False   \n",
      "3                    False                    False   \n",
      "4                    False                    False   \n",
      "\n",
      "   The Spinach Supreme Pizza  The Spinach and Feta Pizza  \\\n",
      "0                      False                       False   \n",
      "1                      False                       False   \n",
      "2                      False                       False   \n",
      "3                      False                       False   \n",
      "4                      False                       False   \n",
      "\n",
      "   The Thai Chicken Pizza  The Vegetables + Vegetables Pizza  \n",
      "0                   False                              False  \n",
      "1                    True                              False  \n",
      "2                   False                              False  \n",
      "3                   False                              False  \n",
      "4                   False                              False  \n",
      "\n",
      "[5 rows x 32 columns]\n"
     ]
    }
   ],
   "source": [
    "# Initialize the transaction encoder\n",
    "te = TransactionEncoder()\n",
    "te_ary = te.fit(transaction_list).transform(transaction_list)\n",
    "df = pd.DataFrame(te_ary, columns=te.columns_)\n",
    "\n",
    "# Display the first few rows of the encoded dataframe\n",
    "print(df.head())\n"
   ]
  },
  {
   "cell_type": "code",
   "execution_count": 41,
   "id": "48aeaa34",
   "metadata": {},
   "outputs": [
    {
     "name": "stdout",
     "output_type": "stream",
     "text": [
      "      support                                           itemsets\n",
      "0    0.106464                       (The Barbecue Chicken Pizza)\n",
      "1    0.084824                               (The Big Meat Pizza)\n",
      "2    0.022482                             (The Brie Carre Pizza)\n",
      "3    0.042998                              (The Calabrese Pizza)\n",
      "4    0.102904                     (The California Chicken Pizza)\n",
      "..        ...                                                ...\n",
      "257  0.005386  (The Spinach and Feta Pizza, The Spicy Italian...\n",
      "258  0.009040  (The Thai Chicken Pizza, The Spicy Italian Pizza)\n",
      "259  0.006417  (The Vegetables + Vegetables Pizza, The Spicy ...\n",
      "260  0.008337  (The Spinach and Feta Pizza, The Thai Chicken ...\n",
      "261  0.007775  (The Thai Chicken Pizza, The Vegetables + Vege...\n",
      "\n",
      "[262 rows x 2 columns]\n"
     ]
    }
   ],
   "source": [
    "from mlxtend.frequent_patterns import apriori, association_rules\n",
    "\n",
    "# Apply the Apriori algorithm with a lower min_support to capture more itemsets\n",
    "frequent_itemsets = apriori(df, min_support=0.005, use_colnames=True)\n",
    "\n",
    "# Display the frequent itemsets to ensure they include multiple items\n",
    "print(frequent_itemsets)"
   ]
  },
  {
   "cell_type": "code",
   "execution_count": 42,
   "id": "330325ac",
   "metadata": {},
   "outputs": [
    {
     "name": "stdout",
     "output_type": "stream",
     "text": [
      "                             antecedents                          consequents  \\\n",
      "0                   (The Big Meat Pizza)         (The Barbecue Chicken Pizza)   \n",
      "1           (The Barbecue Chicken Pizza)                 (The Big Meat Pizza)   \n",
      "2         (The California Chicken Pizza)         (The Barbecue Chicken Pizza)   \n",
      "3           (The Barbecue Chicken Pizza)       (The California Chicken Pizza)   \n",
      "4            (The Chicken Alfredo Pizza)         (The Barbecue Chicken Pizza)   \n",
      "..                                   ...                                  ...   \n",
      "409            (The Spicy Italian Pizza)  (The Vegetables + Vegetables Pizza)   \n",
      "410         (The Spinach and Feta Pizza)             (The Thai Chicken Pizza)   \n",
      "411             (The Thai Chicken Pizza)         (The Spinach and Feta Pizza)   \n",
      "412             (The Thai Chicken Pizza)  (The Vegetables + Vegetables Pizza)   \n",
      "413  (The Vegetables + Vegetables Pizza)             (The Thai Chicken Pizza)   \n",
      "\n",
      "     antecedent support  consequent support   support  confidence      lift  \\\n",
      "0              0.084824            0.106464  0.009180    0.108227  1.016567   \n",
      "1              0.106464            0.084824  0.009180    0.086230  1.016567   \n",
      "2              0.102904            0.106464  0.011663    0.113336  1.064554   \n",
      "3              0.106464            0.102904  0.011663    0.109547  1.064554   \n",
      "4              0.045293            0.106464  0.005293    0.116856  1.097616   \n",
      "..                  ...                 ...       ...         ...       ...   \n",
      "409            0.085340            0.068525  0.006417    0.075192  1.097301   \n",
      "410            0.065667            0.104215  0.008337    0.126961  1.218260   \n",
      "411            0.104215            0.065667  0.008337    0.080000  1.218260   \n",
      "412            0.104215            0.068525  0.007775    0.074607  1.088759   \n",
      "413            0.068525            0.104215  0.007775    0.113465  1.088759   \n",
      "\n",
      "     leverage  conviction  zhangs_metric  \n",
      "0    0.000150    1.001978       0.017808  \n",
      "1    0.000150    1.001538       0.018239  \n",
      "2    0.000707    1.007751       0.067595  \n",
      "3    0.000707    1.007460       0.067865  \n",
      "4    0.000471    1.011768       0.093154  \n",
      "..        ...         ...            ...  \n",
      "409  0.000569    1.007210       0.096946  \n",
      "410  0.001494    1.026054       0.191749  \n",
      "411  0.001494    1.015579       0.200000  \n",
      "412  0.000634    1.006573       0.091007  \n",
      "413  0.000634    1.010434       0.087520  \n",
      "\n",
      "[414 rows x 10 columns]\n"
     ]
    }
   ],
   "source": [
    "# Generate association rules\n",
    "rules = association_rules(frequent_itemsets, metric=\"lift\", min_threshold=1)\n",
    "\n",
    "# Display the rules to check for completeness\n",
    "print(rules)"
   ]
  },
  {
   "cell_type": "code",
   "execution_count": 49,
   "id": "f470c08a",
   "metadata": {},
   "outputs": [
    {
     "name": "stdout",
     "output_type": "stream",
     "text": [
      "Top 10 most frequently ordered pairs:\n",
      "      support                     antecedents                     consequents\n",
      "274  0.012646            (The Hawaiian Pizza)        (The Thai Chicken Pizza)\n",
      "275  0.012646        (The Thai Chicken Pizza)            (The Hawaiian Pizza)\n",
      "27   0.012600    (The Barbecue Chicken Pizza)           (The Pepperoni Pizza)\n",
      "26   0.012600           (The Pepperoni Pizza)    (The Barbecue Chicken Pizza)\n",
      "256  0.012131            (The Hawaiian Pizza)           (The Pepperoni Pizza)\n",
      "257  0.012131           (The Pepperoni Pizza)            (The Hawaiian Pizza)\n",
      "368  0.012037           (The Pepperoni Pizza)        (The Thai Chicken Pizza)\n",
      "369  0.012037        (The Thai Chicken Pizza)           (The Pepperoni Pizza)\n",
      "106  0.011991  (The California Chicken Pizza)           (The Pepperoni Pizza)\n",
      "107  0.011991           (The Pepperoni Pizza)  (The California Chicken Pizza)\n"
     ]
    }
   ],
   "source": [
    "# Sort the rules by support in descending order to get the most frequently ordered pairs\n",
    "top_10_pairs_by_support = rules.sort_values(by='support', ascending=False).head(10)\n",
    "\n",
    "# Display the top 10 pairs by support\n",
    "print(\"Top 10 most frequently ordered pairs:\")\n",
    "print(top_10_pairs_by_support[['support', 'antecedents', 'consequents']])\n"
   ]
  },
  {
   "cell_type": "code",
   "execution_count": 47,
   "id": "ff2ee156",
   "metadata": {},
   "outputs": [
    {
     "name": "stdout",
     "output_type": "stream",
     "text": [
      "Top 10 most frequently ordered pairs by count:\n",
      "     count                         item1                         item2\n",
      "128    319            The Hawaiian Pizza        The Thai Chicken Pizza\n",
      "40     308    The Barbecue Chicken Pizza           The Pepperoni Pizza\n",
      "118    299           The Pepperoni Pizza        The Thai Chicken Pizza\n",
      "214    299            The Hawaiian Pizza           The Pepperoni Pizza\n",
      "216    296      The Classic Deluxe Pizza            The Hawaiian Pizza\n",
      "258    295      The Classic Deluxe Pizza           The Pepperoni Pizza\n",
      "255    294  The California Chicken Pizza            The Hawaiian Pizza\n",
      "42     292  The California Chicken Pizza           The Pepperoni Pizza\n",
      "168    292    The Barbecue Chicken Pizza            The Hawaiian Pizza\n",
      "39     287    The Barbecue Chicken Pizza  The California Chicken Pizza\n"
     ]
    }
   ],
   "source": [
    "from itertools import combinations\n",
    "from collections import Counter\n",
    "\n",
    "# Generate pairs of items from each transaction\n",
    "pair_counter = Counter()\n",
    "\n",
    "for transaction in transaction_list:\n",
    "    transaction_pairs = combinations(sorted(transaction), 2)  # Generate pairs of items\n",
    "    pair_counter.update(transaction_pairs)\n",
    "\n",
    "# Convert the counter to a DataFrame for easier analysis\n",
    "pair_counts = pd.DataFrame(pair_counter.items(), columns=['pair', 'count'])\n",
    "pair_counts['item1'] = pair_counts['pair'].apply(lambda x: x[0])\n",
    "pair_counts['item2'] = pair_counts['pair'].apply(lambda x: x[1])\n",
    "pair_counts.drop(columns='pair', inplace=True)\n",
    "\n",
    "# Sort the DataFrame by count in descending order to find the most frequently ordered pairs\n",
    "pair_counts.sort_values(by='count', ascending=False, inplace=True)\n",
    "\n",
    "# Display the top 10 most frequently ordered pairs\n",
    "print(\"Top 10 most frequently ordered pairs by count:\")\n",
    "print(pair_counts.head(10))\n"
   ]
  },
  {
   "cell_type": "code",
   "execution_count": null,
   "id": "64159f50",
   "metadata": {},
   "outputs": [],
   "source": []
  }
 ],
 "metadata": {
  "kernelspec": {
   "display_name": "Python 3 (ipykernel)",
   "language": "python",
   "name": "python3"
  },
  "language_info": {
   "codemirror_mode": {
    "name": "ipython",
    "version": 3
   },
   "file_extension": ".py",
   "mimetype": "text/x-python",
   "name": "python",
   "nbconvert_exporter": "python",
   "pygments_lexer": "ipython3",
   "version": "3.9.13"
  }
 },
 "nbformat": 4,
 "nbformat_minor": 5
}
